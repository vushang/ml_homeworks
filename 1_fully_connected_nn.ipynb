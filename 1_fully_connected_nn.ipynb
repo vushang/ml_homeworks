{
  "nbformat": 4,
  "nbformat_minor": 0,
  "metadata": {
    "colab": {
      "provenance": []
    },
    "kernelspec": {
      "name": "python3",
      "display_name": "Python 3"
    },
    "language_info": {
      "name": "python"
    },
    "gpuClass": "standard",
    "accelerator": "GPU"
  },
  "cells": [
    {
      "cell_type": "code",
      "metadata": {
        "id": "1UR8jWzk6uU3"
      },
      "source": [
        "#pip install torch"
      ],
      "execution_count": null,
      "outputs": []
    },
    {
      "cell_type": "code",
      "metadata": {
        "id": "ukjTXSOE6yht"
      },
      "source": [
        "import torch as th\n",
        "from torch import nn\n",
        "import numpy as np\n",
        "import random\n",
        "from torch.optim import Adam\n",
        "from tqdm import tqdm\n",
        "\n",
        "#сделаем инициализацию random seed, \n",
        "#чтобы наши эксперименты были воспроизводимы\n",
        "\n",
        "random.seed(0)\n",
        "np.random.seed(0)\n",
        "th.manual_seed(0)\n",
        "th.cuda.manual_seed(0)\n",
        "th.backends.cudnn.deterministic=True"
      ],
      "execution_count": null,
      "outputs": []
    },
    {
      "cell_type": "code",
      "metadata": {
        "id": "mnze1dsy759S"
      },
      "source": [
        "#скачивание датасета для классификации изображений\n",
        "import torchvision.datasets\n",
        "\n",
        "MNIST_train = torchvision.datasets.MNIST('./', download = True, train = True)\n",
        "MNIST_test = torchvision.datasets.MNIST('./', download = True, train = False)"
      ],
      "execution_count": null,
      "outputs": []
    },
    {
      "cell_type": "code",
      "metadata": {
        "colab": {
          "base_uri": "https://localhost:8080/"
        },
        "id": "D17O66_Y8XVd",
        "outputId": "ef3e6ed6-2ce8-4ef1-d0f8-a2f6ecb290e4"
      },
      "source": [
        "X_train = MNIST_train.train_data\n",
        "y_train = MNIST_train.train_labels\n",
        "X_test = MNIST_test.test_data\n",
        "y_test = MNIST_test.test_labels"
      ],
      "execution_count": null,
      "outputs": [
        {
          "output_type": "stream",
          "name": "stderr",
          "text": [
            "/usr/local/lib/python3.8/dist-packages/torchvision/datasets/mnist.py:75: UserWarning: train_data has been renamed data\n",
            "  warnings.warn(\"train_data has been renamed data\")\n",
            "/usr/local/lib/python3.8/dist-packages/torchvision/datasets/mnist.py:65: UserWarning: train_labels has been renamed targets\n",
            "  warnings.warn(\"train_labels has been renamed targets\")\n",
            "/usr/local/lib/python3.8/dist-packages/torchvision/datasets/mnist.py:80: UserWarning: test_data has been renamed data\n",
            "  warnings.warn(\"test_data has been renamed data\")\n",
            "/usr/local/lib/python3.8/dist-packages/torchvision/datasets/mnist.py:70: UserWarning: test_labels has been renamed targets\n",
            "  warnings.warn(\"test_labels has been renamed targets\")\n"
          ]
        }
      ]
    },
    {
      "cell_type": "code",
      "metadata": {
        "colab": {
          "base_uri": "https://localhost:8080/"
        },
        "id": "APx5M9L_9JmE",
        "outputId": "d3559f4f-d9a3-4b7a-d66a-9278236b4aea"
      },
      "source": [
        "#посмотрим какой у данных тип\n",
        "X_train.dtype, y_train.dtype"
      ],
      "execution_count": null,
      "outputs": [
        {
          "output_type": "execute_result",
          "data": {
            "text/plain": [
              "(torch.uint8, torch.int64)"
            ]
          },
          "metadata": {},
          "execution_count": 4
        }
      ]
    },
    {
      "cell_type": "code",
      "metadata": {
        "id": "g2AQpB3t9RL-"
      },
      "source": [
        "#данные имеют тип беззнаковый 8, а таргеты - целые 64 бита\n",
        "#преобразуем сразу данные в веществиенный тип\n",
        "X_train = X_train.float()\n",
        "X_test = X_test.float()"
      ],
      "execution_count": null,
      "outputs": []
    },
    {
      "cell_type": "code",
      "metadata": {
        "colab": {
          "base_uri": "https://localhost:8080/"
        },
        "id": "SzTDAw5t9mdb",
        "outputId": "94244e54-45f9-4437-df8b-6b16941db6b3"
      },
      "source": [
        "#посмотрим на расзмерность датасетов\n",
        "X_train.shape, X_test.shape\n",
        "#это очень маленькие картинки, именно поэтому мы можем использовать\n",
        "#полносвязную нейронную сеть для такой задачи, а не сверточные сети"
      ],
      "execution_count": null,
      "outputs": [
        {
          "output_type": "execute_result",
          "data": {
            "text/plain": [
              "(torch.Size([60000, 28, 28]), torch.Size([10000, 28, 28]))"
            ]
          },
          "metadata": {},
          "execution_count": 6
        }
      ]
    },
    {
      "cell_type": "code",
      "metadata": {
        "colab": {
          "base_uri": "https://localhost:8080/"
        },
        "id": "N09Kwd269vwF",
        "outputId": "585714e4-b953-4550-c6ab-be6fd6e4860e"
      },
      "source": [
        "y_train.shape, y_test.shape"
      ],
      "execution_count": null,
      "outputs": [
        {
          "output_type": "execute_result",
          "data": {
            "text/plain": [
              "(torch.Size([60000]), torch.Size([10000]))"
            ]
          },
          "metadata": {},
          "execution_count": 7
        }
      ]
    },
    {
      "cell_type": "code",
      "metadata": {
        "colab": {
          "base_uri": "https://localhost:8080/",
          "height": 282
        },
        "id": "oUvvAckp-Sn8",
        "outputId": "1dc43ab2-159b-4d36-e831-1c0bd77ceca3"
      },
      "source": [
        "#посмотрим на картинки\n",
        "import matplotlib.pyplot as plt\n",
        "plt.imshow(X_train[7, :, :])\n",
        "plt.show()\n",
        "print(y_train[7])"
      ],
      "execution_count": null,
      "outputs": [
        {
          "output_type": "display_data",
          "data": {
            "text/plain": [
              "<Figure size 432x288 with 1 Axes>"
            ],
            "image/png": "[encoded data removed]"
          },
          "metadata": {
            "needs_background": "light"
          }
        },
        {
          "output_type": "stream",
          "name": "stdout",
          "text": [
            "tensor(3)\n"
          ]
        }
      ]
    },
    {
      "cell_type": "code",
      "metadata": {
        "colab": {
          "base_uri": "https://localhost:8080/"
        },
        "id": "51sBbxg1AOug",
        "outputId": "557de7ce-bab5-4b03-8174-8dc44879cc28"
      },
      "source": [
        "#у нас трезмерный тензор, мы хотим двумерный тензор, \n",
        "#чтобы первая рамерность сохранилась, то есть 60000 картинок\n",
        "#вместо 28 и 28 будет 764 пикселя\n",
        "\n",
        "X_train = X_train.reshape([-1, 28*28])\n",
        "X_test = X_test.reshape([-1, 28*28])\n",
        "\n",
        "print(X_train)\n"
      ],
      "execution_count": null,
      "outputs": [
        {
          "output_type": "stream",
          "name": "stdout",
          "text": [
            "tensor([[0., 0., 0.,  ..., 0., 0., 0.],\n",
            "        [0., 0., 0.,  ..., 0., 0., 0.],\n",
            "        [0., 0., 0.,  ..., 0., 0., 0.],\n",
            "        ...,\n",
            "        [0., 0., 0.,  ..., 0., 0., 0.],\n",
            "        [0., 0., 0.,  ..., 0., 0., 0.],\n",
            "        [0., 0., 0.,  ..., 0., 0., 0.]])\n"
          ]
        }
      ]
    },
    {
      "cell_type": "markdown",
      "source": [
        "# Моя работа"
      ],
      "metadata": {
        "id": "0ws-GP2HJaGR"
      }
    },
    {
      "cell_type": "markdown",
      "metadata": {
        "id": "hWn93Cu_YiSu"
      },
      "source": [
        "###Задание\n"
      ]
    },
    {
      "cell_type": "markdown",
      "source": [
        "1.   Дописать код после фразы Ваш_Код_Здесь.\n",
        "2.   Поэкспериментировать с гиперпараметрами нейронной сети, чтобы добиться более высокой точности классификации.\n",
        "4.   Построить на одном графике loss для тестовой выборки и для обучающей.\n",
        "5.   Ведет ли увеличение количества эпох (40 эпох -> 200 эпох) к улучшению метрик на валидации?\n",
        "6.   Замерьте время вычисления 100 эпох на CPU и на GPU.\n",
        "7.   Показать результат работы модели с использованием функции predict.\n"
      ],
      "metadata": {
        "id": "_XR5ANxsy3V4"
      }
    },
    {
      "cell_type": "code",
      "metadata": {
        "id": "rBCCAbFXB5X6"
      },
      "source": [
        "#Создание сети\n",
        "# на выходе у нас числа от 0 до 9\n",
        "class MNISTnet(th.nn.Module):\n",
        "  def __init__(self):\n",
        "    super (MNISTnet, self).__init__()\n",
        "    self.fc1 = nn.Linear(784, 256)\n",
        "    self.ac1 = nn.ReLU()\n",
        "    self.fc2 = nn.Linear(256, 128)\n",
        "    self.ac2 = nn.ReLU()\n",
        "    self.fc3 = nn.Linear(128, 10)\n",
        "    self.sm = nn.Softmax(dim = 1)\n",
        "   \n",
        "  def forward(self, x):\n",
        "    x = self.fc1(x)\n",
        "    x = self.ac1(x)\n",
        "    x = self.fc2(x)\n",
        "    x = self.ac2(x)\n",
        "    x = self.fc3(x)\n",
        "    return x\n",
        "\n",
        "\n",
        "  \n",
        "  def predict(self,x):\n",
        "    x=self.forward(x)\n",
        "    x=self.sm(x)\n",
        "    return x\n"
      ],
      "execution_count": null,
      "outputs": []
    },
    {
      "cell_type": "code",
      "metadata": {
        "colab": {
          "base_uri": "https://localhost:8080/"
        },
        "id": "FU0vdZleMF_N",
        "outputId": "ebe4995f-9df7-42dc-bc42-025753cc78e1"
      },
      "source": [
        "''' есть ли видеокарта?'''\n",
        "th.cuda.is_available()"
      ],
      "execution_count": null,
      "outputs": [
        {
          "output_type": "execute_result",
          "data": {
            "text/plain": [
              "True"
            ]
          },
          "metadata": {},
          "execution_count": 11
        }
      ]
    },
    {
      "cell_type": "code",
      "metadata": {
        "colab": {
          "base_uri": "https://localhost:8080/"
        },
        "id": "4yHSa30oMhXb",
        "outputId": "7a98efc2-65b5-44f7-e296-0ec8fdc1f0a9"
      },
      "source": [
        "'''смотрим, занята ли карта какими либо вычислениями'''\n",
        "!nvidia-smi"
      ],
      "execution_count": null,
      "outputs": [
        {
          "output_type": "stream",
          "name": "stdout",
          "text": [
            "Sun Feb 12 20:15:39 2023       \n",
            "+-----------------------------------------------------------------------------+\n",
            "| NVIDIA-SMI 510.47.03    Driver Version: 510.47.03    CUDA Version: 11.6     |\n",
            "|-------------------------------+----------------------+----------------------+\n",
            "| GPU  Name        Persistence-M| Bus-Id        Disp.A | Volatile Uncorr. ECC |\n",
            "| Fan  Temp  Perf  Pwr:Usage/Cap|         Memory-Usage | GPU-Util  Compute M. |\n",
            "|                               |                      |               MIG M. |\n",
            "|===============================+======================+======================|\n",
            "|   0  Tesla T4            Off  | 00000000:00:04.0 Off |                    0 |\n",
            "| N/A   59C    P0    26W /  70W |      3MiB / 15360MiB |      0%      Default |\n",
            "|                               |                      |                  N/A |\n",
            "+-------------------------------+----------------------+----------------------+\n",
            "                                                                               \n",
            "+-----------------------------------------------------------------------------+\n",
            "| Processes:                                                                  |\n",
            "|  GPU   GI   CI        PID   Type   Process name                  GPU Memory |\n",
            "|        ID   ID                                                   Usage      |\n",
            "|=============================================================================|\n",
            "|  No running processes found                                                 |\n",
            "+-----------------------------------------------------------------------------+\n"
          ]
        }
      ]
    },
    {
      "cell_type": "code",
      "metadata": {
        "id": "ZWe0YPZnMwtN"
      },
      "source": [
        "\"\"\" теперь нужно переложить вычисления на видеокарту\"\"\"\n",
        "\n",
        "device = th.device('cuda:0' if th.cuda.is_available() else 'cpu')\n",
        "#net = net.to(device)"
      ],
      "execution_count": null,
      "outputs": []
    },
    {
      "cell_type": "markdown",
      "source": [
        "## Main"
      ],
      "metadata": {
        "id": "PXwd1TKjJyHG"
      }
    },
    {
      "cell_type": "code",
      "source": [
        "fc_net = MNISTnet().to(device)"
      ],
      "metadata": {
        "id": "q_GeB48AEdQW"
      },
      "execution_count": null,
      "outputs": []
    },
    {
      "cell_type": "code",
      "metadata": {
        "id": "WtSXW1VvDSsv"
      },
      "source": [
        "#лосс функция\n",
        "loss_function = nn.CrossEntropyLoss()\n",
        "\n",
        "#оптимизатор\n",
        "optimizer = Adam(fc_net.parameters(), lr = 0.001)"
      ],
      "execution_count": null,
      "outputs": []
    },
    {
      "cell_type": "code",
      "metadata": {
        "id": "iLHagWwaHCEg",
        "colab": {
          "base_uri": "https://localhost:8080/"
        },
        "outputId": "93e10b9d-ab9e-4bae-face-7fda99712c14"
      },
      "source": [
        "batch_size = 1000\n",
        "epochs = 10\n",
        "\n",
        "'''перекладываем входные данные теста на видеокарту'''\n",
        "X_test = X_test.to(device)\n",
        "y_test = y_test.to(device)\n",
        "\n",
        "X_train = X_train.to(device)\n",
        "y_train = y_train.to(device)\n",
        "\n",
        "train_losses = []\n",
        "test_losses = []\n",
        "\n",
        "'''данные тренировочной выборки будем перекладывать на cuda по батчам'''\n",
        "for epoch in tqdm(range(epochs)):\n",
        "  order = np.random.permutation(len(X_train))\n",
        "  for start_index in range (0,len(X_train), batch_size):\n",
        "\n",
        "    fc_net.train() # перевод в режим train\n",
        "\n",
        "    optimizer.zero_grad() # обнуляем градиенты\n",
        "\n",
        "    batch_index = order[start_index:start_index+batch_size] # выделение батча из датасета\n",
        "    X_batch = X_train[batch_index] #\n",
        "    y_batch = y_train[batch_index] #\n",
        "\n",
        "    preds = fc_net.forward(X_batch) # предсказание на батче\n",
        "    loss_val = loss_function(preds, y_batch) # лосс на батче\n",
        "    train_losses.append(loss_val) # сохраняем лосс на трейне\n",
        "\n",
        "    loss_val.backward() # расчет градиентов\n",
        "    optimizer.step() # шаг градиента + оптимизатора\n",
        "    \n",
        "    with th.no_grad():\n",
        "        loss_test = loss_function(fc_net.forward(X_test), y_test) # лосс на тесте\n",
        "        test_losses.append(loss_test) # сохраняем лосс на тесте\n"
      ],
      "execution_count": null,
      "outputs": [
        {
          "output_type": "stream",
          "name": "stderr",
          "text": [
            "100%|██████████| 10/10 [00:02<00:00,  3.53it/s]\n"
          ]
        }
      ]
    },
    {
      "cell_type": "code",
      "source": [
        "train_losses_list = [i.to('cpu').tolist() for i in train_losses]\n",
        "plt.plot(range(len(train_losses_list)), train_losses_list)\n",
        "test_losses_list = [i.to('cpu').tolist() for i in test_losses]\n",
        "plt.plot(range(len(test_losses_list)), test_losses_list)"
      ],
      "metadata": {
        "colab": {
          "base_uri": "https://localhost:8080/",
          "height": 283
        },
        "id": "GfPAY4ZCGp9u",
        "outputId": "bb4876ea-e503-4187-ebdd-cd5ae6bb18d5"
      },
      "execution_count": null,
      "outputs": [
        {
          "output_type": "execute_result",
          "data": {
            "text/plain": [
              "[<matplotlib.lines.Line2D at 0x7ff045573430>]"
            ]
          },
          "metadata": {},
          "execution_count": 17
        },
        {
          "output_type": "display_data",
          "data": {
            "text/plain": [
              "<Figure size 432x288 with 1 Axes>"
            ],
            "image/png": "[encoded data removed]"
          },
          "metadata": {
            "needs_background": "light"
          }
        }
      ]
    },
    {
      "cell_type": "markdown",
      "source": [
        "увеличение количества эпох не всегда дает хороший результат"
      ],
      "metadata": {
        "id": "ogdxyg6TTloO"
      }
    },
    {
      "cell_type": "code",
      "source": [
        "from sklearn.metrics import f1_score"
      ],
      "metadata": {
        "id": "1USavSH0F5uw"
      },
      "execution_count": null,
      "outputs": []
    },
    {
      "cell_type": "code",
      "source": [
        "f1_score(fc_net.predict(X_test).to('cpu').argmax(dim = 1).tolist(), y_test.tolist(), average = 'weighted')"
      ],
      "metadata": {
        "colab": {
          "base_uri": "https://localhost:8080/"
        },
        "id": "bnZeuJ6JFoLm",
        "outputId": "d028e3a4-2c4c-4a73-af68-85dcc5e5ccef"
      },
      "execution_count": null,
      "outputs": [
        {
          "output_type": "execute_result",
          "data": {
            "text/plain": [
              "0.9722945705765598"
            ]
          },
          "metadata": {},
          "execution_count": 19
        }
      ]
    },
    {
      "cell_type": "markdown",
      "source": [
        "## Тест на время"
      ],
      "metadata": {
        "id": "Ute63_9uJvz5"
      }
    },
    {
      "cell_type": "code",
      "source": [
        "cpu_model = MNISTnet().to('cpu')\n",
        "\n",
        "cpu_loss_function = nn.CrossEntropyLoss()\n",
        "\n",
        "cpu_optimizer = Adam(cpu_model.parameters())"
      ],
      "metadata": {
        "id": "gpvwu80WKhkK"
      },
      "execution_count": null,
      "outputs": []
    },
    {
      "cell_type": "code",
      "source": [
        "def model_fit(model, batch_size, epochs, X_test, y_test, X_train, y_train, device, loss_function, optimizer):\n",
        "\n",
        "    '''перекладываем входные данные теста на видеокарту'''\n",
        "\n",
        "    \n",
        "    #return : train_losses, test_losses\n",
        "    \n",
        "    X_test = X_test.to(device)\n",
        "    y_test = y_test.to(device)\n",
        "\n",
        "    X_train = X_train.to(device)\n",
        "    y_train = y_train.to(device)\n",
        "\n",
        "    #train_losses = []\n",
        "    #test_losses = []\n",
        "\n",
        "    '''данные тренировочной выборки будем перекладывать на cuda по батчам'''\n",
        "    for epoch in tqdm(range(epochs)):\n",
        "      order = np.random.permutation(len(X_train))\n",
        "      for start_index in range (0,len(X_train), batch_size):\n",
        "\n",
        "        model.train() # перевод в режим train\n",
        "\n",
        "        optimizer.zero_grad() # обнуляем градиенты\n",
        "\n",
        "        batch_index = order[start_index:start_index+batch_size] # выделение батча из датасета\n",
        "        X_batch = X_train[batch_index] #\n",
        "        y_batch = y_train[batch_index] #\n",
        "\n",
        "        preds = model.forward(X_batch) # предсказание на батче\n",
        "        loss_val = loss_function(preds, y_batch) # лосс на батче\n",
        "        #train_losses.append(loss_val) # сохраняем лосс на трейне\n",
        "\n",
        "        loss_val.backward() # расчет градиентов\n",
        "        optimizer.step() # шаг градиента + оптимизатора\n",
        "        \n",
        "        #with th.no_grad():\n",
        "            #loss_test = loss_function(model.forward(X_test), y_test) # лосс на тесте\n",
        "            #test_losses.append(loss_test) # сохраняем лосс на тесте\n",
        "    #return train_losses, test_losses"
      ],
      "metadata": {
        "id": "Pxfdahq-KT21"
      },
      "execution_count": null,
      "outputs": []
    },
    {
      "cell_type": "markdown",
      "source": [
        "### обучение на cpu"
      ],
      "metadata": {
        "id": "2zTCqItwODDD"
      }
    },
    {
      "cell_type": "code",
      "source": [
        "cpu_model = MNISTnet().to('cpu')\n",
        "\n",
        "cpu_loss_function = nn.CrossEntropyLoss()\n",
        "\n",
        "cpu_optimizer = Adam(cpu_model.parameters())\n",
        "###\n",
        "model_fit(model = cpu_model,\n",
        "          batch_size = 1000,\n",
        "          epochs = 100,\n",
        "          X_test = X_test,\n",
        "          y_test = y_test,\n",
        "          X_train = X_train,\n",
        "          y_train = y_train,\n",
        "          device = 'cpu',\n",
        "          loss_function = cpu_loss_function,\n",
        "          optimizer = cpu_optimizer)"
      ],
      "metadata": {
        "colab": {
          "base_uri": "https://localhost:8080/"
        },
        "id": "c6EIrdJVNoCj",
        "outputId": "b38cd907-8a07-4906-d0fc-e206d85f7bd6"
      },
      "execution_count": null,
      "outputs": [
        {
          "output_type": "stream",
          "name": "stderr",
          "text": [
            "100%|██████████| 100/100 [02:04<00:00,  1.24s/it]\n"
          ]
        }
      ]
    },
    {
      "cell_type": "markdown",
      "source": [
        "### обучение на gpu"
      ],
      "metadata": {
        "id": "IbyCiHHgOGAT"
      }
    },
    {
      "cell_type": "code",
      "source": [
        "gpu_model = MNISTnet().to('cuda:0')\n",
        "\n",
        "gpu_loss_function = nn.CrossEntropyLoss()\n",
        "\n",
        "gpu_optimizer = Adam(cpu_model.parameters())\n",
        "###\n",
        "model_fit(model = gpu_model,\n",
        "          batch_size = 1000,\n",
        "          epochs = 100,\n",
        "          X_test = X_test,\n",
        "          y_test = y_test,\n",
        "          X_train = X_train,\n",
        "          y_train = y_train,\n",
        "          device = 'cuda:0',\n",
        "          loss_function = gpu_loss_function,\n",
        "          optimizer = gpu_optimizer)"
      ],
      "metadata": {
        "colab": {
          "base_uri": "https://localhost:8080/"
        },
        "id": "4hw2BCt5OFVc",
        "outputId": "9492a92f-bcba-4f0c-9592-a9c5f93ad11b"
      },
      "execution_count": null,
      "outputs": [
        {
          "output_type": "stream",
          "name": "stderr",
          "text": [
            "100%|██████████| 100/100 [00:24<00:00,  4.06it/s]\n"
          ]
        }
      ]
    },
    {
      "cell_type": "markdown",
      "source": [
        "Время на 100 эпохах при batch_size = 1000 на cpu ~ 2 минуты\n",
        "\n",
        "Время на 100 эпохах при batch_size = 1000 на gpu ~ 24 секунды"
      ],
      "metadata": {
        "id": "Ag232xsVL3Cf"
      }
    }
  ]
}