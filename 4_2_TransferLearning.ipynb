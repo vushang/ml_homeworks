{
  "nbformat": 4,
  "nbformat_minor": 0,
  "metadata": {
    "colab": {
      "provenance": []
    },
    "kernelspec": {
      "name": "python3",
      "display_name": "Python 3"
    },
    "language_info": {
      "name": "python"
    },
    "accelerator": "GPU",
    "gpuClass": "standard"
  },
  "cells": [
    {
      "cell_type": "markdown",
      "source": [
        "# Часть 2"
      ],
      "metadata": {
        "id": "30T3wlGFIGau"
      }
    },
    {
      "cell_type": "code",
      "metadata": {
        "colab": {
          "base_uri": "https://localhost:8080/"
        },
        "id": "nQUphGo_FP7C",
        "outputId": "e78097b4-3344-46d3-91e2-fcdc04efb383"
      },
      "source": [
        "#pip install torch"
      ],
      "execution_count": null,
      "outputs": [
        {
          "output_type": "stream",
          "name": "stdout",
          "text": [
            "Requirement already satisfied: torch in /usr/local/lib/python3.7/dist-packages (1.10.0+cu111)\n",
            "Requirement already satisfied: typing-extensions in /usr/local/lib/python3.7/dist-packages (from torch) (3.10.0.2)\n"
          ]
        }
      ]
    },
    {
      "cell_type": "code",
      "metadata": {
        "id": "XApxLDa2GUo8"
      },
      "source": [
        "import torch\n",
        "import numpy as np\n",
        "import pandas as pd\n",
        "import matplotlib.pyplot as plt\n",
        "import random\n",
        "from torch import nn\n",
        "from tqdm import tqdm\n",
        "import torchvision.transforms as transforms"
      ],
      "execution_count": 1,
      "outputs": []
    },
    {
      "cell_type": "code",
      "metadata": {
        "id": "itjwqkxicqhx"
      },
      "source": [
        "random.seed(0)\n",
        "np.random.seed(0)\n",
        "torch.manual_seed(0)\n",
        "torch.cuda.manual_seed(0)\n",
        "torch.backends.cudnn.deterministic=True"
      ],
      "execution_count": 2,
      "outputs": []
    },
    {
      "cell_type": "code",
      "source": [
        "transform = transforms.Compose([\n",
        "    transforms.Resize(256),\n",
        "    transforms.CenterCrop(224),\n",
        "    transforms.ToTensor(),\n",
        "    transforms.Normalize(mean=[0.485, 0.456, 0.406], std=[0.229, 0.224, 0.225]),\n",
        "])\n"
      ],
      "metadata": {
        "id": "QbjGPmnO9hVF"
      },
      "execution_count": 3,
      "outputs": []
    },
    {
      "cell_type": "code",
      "metadata": {
        "colab": {
          "base_uri": "https://localhost:8080/"
        },
        "id": "JJUZGRdW-FpP",
        "outputId": "b026721d-0801-4034-a73b-a36ca0d0ed97"
      },
      "source": [
        "#скачивание датасета для классификации изображений\n",
        "import torchvision.datasets\n",
        "\n",
        "CIFAR_train = torchvision.datasets.CIFAR10('./', download = True,\n",
        "                                           train = True,\n",
        "                                           transform = transform)\n",
        "CIFAR_test = torchvision.datasets.CIFAR10('./', download = True,\n",
        "                                          train = False,\n",
        "                                          transform = transform)"
      ],
      "execution_count": 4,
      "outputs": [
        {
          "output_type": "stream",
          "name": "stdout",
          "text": [
            "Downloading https://www.cs.toronto.edu/~kriz/cifar-10-python.tar.gz to ./cifar-10-python.tar.gz\n"
          ]
        },
        {
          "output_type": "stream",
          "name": "stderr",
          "text": [
            "100%|██████████| 170498071/170498071 [00:01<00:00, 100847105.39it/s]\n"
          ]
        },
        {
          "output_type": "stream",
          "name": "stdout",
          "text": [
            "Extracting ./cifar-10-python.tar.gz to ./\n",
            "Files already downloaded and verified\n"
          ]
        }
      ]
    },
    {
      "cell_type": "code",
      "metadata": {
        "id": "MO3YYT3I-aAo"
      },
      "source": [
        "trainloader = torch.utils.data.DataLoader(CIFAR_train, batch_size=20, shuffle=True, num_workers=2)\n",
        "\n",
        "testloader = torch.utils.data.DataLoader(CIFAR_test, batch_size=20, shuffle=False, num_workers=2)"
      ],
      "execution_count": 5,
      "outputs": []
    },
    {
      "cell_type": "code",
      "metadata": {
        "id": "G-F_QG9hCAP4",
        "colab": {
          "base_uri": "https://localhost:8080/"
        },
        "outputId": "249ca068-654c-4ee4-c0ca-dd8cb3090c2d"
      },
      "source": [
        "device = torch.device('cuda:0' if torch.cuda.is_available() else 'cpu')\n",
        "device"
      ],
      "execution_count": 6,
      "outputs": [
        {
          "output_type": "execute_result",
          "data": {
            "text/plain": [
              "device(type='cuda', index=0)"
            ]
          },
          "metadata": {},
          "execution_count": 6
        }
      ]
    },
    {
      "cell_type": "markdown",
      "source": [
        "## Функция для обучения"
      ],
      "metadata": {
        "id": "r5FxMsKwjR-j"
      }
    },
    {
      "cell_type": "code",
      "source": [
        "def fit_model(epochs,\n",
        "              model,\n",
        "              trainloader,\n",
        "              optimizer):\n",
        "  \n",
        "    device = torch.device('cuda:0' if torch.cuda.is_available() else 'cpu')\n",
        "    model = model.to(device)\n",
        "\n",
        "    loss_function = nn.CrossEntropyLoss()\n",
        "    \n",
        "    '''данные тренировочной выборки будем перекладывать на cuda по батчам'''\n",
        "    for epoch in tqdm(range(epochs)):\n",
        "\n",
        "      for i, data in enumerate(trainloader, 0):\n",
        "        # get the inputs; data is a list of [inputs, labels]\n",
        "        X_batch, y_batch = data[0].to(device), data[1].to(device)\n",
        "\n",
        "        model.train() # перевод в режим train\n",
        "\n",
        "        optimizer.zero_grad() # обнуляем градиенты\n",
        "\n",
        "        preds = model.forward(X_batch) # предсказание на батче\n",
        "        loss_val = loss_function(preds, y_batch) # лосс на батче\n",
        "\n",
        "        loss_val.backward() # расчет градиентов\n",
        "        optimizer.step() # шаг градиента + оптимизатора"
      ],
      "metadata": {
        "id": "xmjRtc5LEQXz"
      },
      "execution_count": 15,
      "outputs": []
    },
    {
      "cell_type": "code",
      "source": [
        "def get_accuracy(model, testloader):\n",
        "    correct = 0\n",
        "    total = 0\n",
        "    with torch.no_grad():\n",
        "        for data in testloader:\n",
        "            images, labels = data[0].to(device), data[1].to(device)\n",
        "            outputs = model(images)\n",
        "            _, predicted = torch.max(outputs.data, 1)\n",
        "            total += labels.size(0)\n",
        "            correct += (predicted == labels).sum().item()\n",
        "\n",
        "        return correct / total"
      ],
      "metadata": {
        "id": "RLCs8543KFMv"
      },
      "execution_count": 16,
      "outputs": []
    },
    {
      "cell_type": "markdown",
      "source": [
        "## AlexNet"
      ],
      "metadata": {
        "id": "GAdHuK_HEj2h"
      }
    },
    {
      "cell_type": "code",
      "source": [
        "from torchvision.models import alexnet, AlexNet_Weights"
      ],
      "metadata": {
        "id": "6wj4xer_QBJZ"
      },
      "execution_count": null,
      "outputs": []
    },
    {
      "cell_type": "code",
      "source": [
        "alexnet_model = alexnet(weights = AlexNet_Weights.IMAGENET1K_V1)"
      ],
      "metadata": {
        "colab": {
          "base_uri": "https://localhost:8080/"
        },
        "id": "-repWToAMvBN",
        "outputId": "14bb70ad-daae-4633-b3f9-6d4492e3b417"
      },
      "execution_count": null,
      "outputs": [
        {
          "output_type": "stream",
          "name": "stderr",
          "text": [
            "Downloading: \"https://download.pytorch.org/models/alexnet-owt-7be5be79.pth\" to /root/.cache/torch/hub/checkpoints/alexnet-owt-7be5be79.pth\n",
            "100%|██████████| 233M/233M [00:00<00:00, 269MB/s]\n"
          ]
        }
      ]
    },
    {
      "cell_type": "code",
      "source": [
        "for i in alexnet_model.children():\n",
        "    for param in i.parameters():\n",
        "        param.requires_grad = False"
      ],
      "metadata": {
        "id": "VM-1thfUKdD6"
      },
      "execution_count": null,
      "outputs": []
    },
    {
      "cell_type": "code",
      "source": [
        "alexnet_model.classifier = nn.Sequential(nn.Dropout(p=0.5, inplace=False),\n",
        "                                         nn.Linear(in_features=9216, out_features=4096, bias=True),\n",
        "                                         nn.ReLU(inplace=True),\n",
        "                                         nn.Dropout(p=0.5, inplace=False),\n",
        "                                         nn.Linear(in_features=4096, out_features=1024, bias=True),\n",
        "                                         nn.ReLU(inplace=True),\n",
        "                                         nn.Linear(in_features=1024, out_features=10, bias=True))"
      ],
      "metadata": {
        "id": "o9n0_4Wo2l-M"
      },
      "execution_count": null,
      "outputs": []
    },
    {
      "cell_type": "code",
      "source": [
        "for i in alexnet_model.children():\n",
        "    for param in i.parameters():\n",
        "        print(param.requires_grad)"
      ],
      "metadata": {
        "colab": {
          "base_uri": "https://localhost:8080/"
        },
        "id": "XOd-NY2kMY2G",
        "outputId": "af76a5fb-0e25-4514-96b6-7e106c566944"
      },
      "execution_count": null,
      "outputs": [
        {
          "output_type": "stream",
          "name": "stdout",
          "text": [
            "False\n",
            "False\n",
            "False\n",
            "False\n",
            "False\n",
            "False\n",
            "False\n",
            "False\n",
            "False\n",
            "False\n",
            "True\n",
            "True\n",
            "True\n",
            "True\n",
            "True\n",
            "True\n"
          ]
        }
      ]
    },
    {
      "cell_type": "code",
      "source": [
        "opt1 = torch.optim.Adam(params = alexnet_model.parameters())"
      ],
      "metadata": {
        "id": "LKfRMilDJRBB"
      },
      "execution_count": null,
      "outputs": []
    },
    {
      "cell_type": "code",
      "source": [
        "fit_model(epochs = 10,  \n",
        "          model = alexnet_model,\n",
        "          trainloader = trainloader,\n",
        "          optimizer = opt1)"
      ],
      "metadata": {
        "colab": {
          "base_uri": "https://localhost:8080/"
        },
        "id": "nk6x-8fj68c5",
        "outputId": "42004139-6be7-463d-ab01-249d4ab3cd0d"
      },
      "execution_count": null,
      "outputs": [
        {
          "output_type": "stream",
          "name": "stderr",
          "text": [
            "100%|██████████| 10/10 [16:20<00:00, 98.07s/it]\n"
          ]
        }
      ]
    },
    {
      "cell_type": "code",
      "source": [
        "alexnet_accuracy = get_accuracy(model = alexnet_model,\n",
        "                                testloader = testloader)\n",
        "alexnet_accuracy"
      ],
      "metadata": {
        "colab": {
          "base_uri": "https://localhost:8080/"
        },
        "id": "GhrKckvjRp3S",
        "outputId": "14946225-7f28-40b9-c0f2-389055b48741"
      },
      "execution_count": null,
      "outputs": [
        {
          "output_type": "execute_result",
          "data": {
            "text/plain": [
              "0.7874"
            ]
          },
          "metadata": {},
          "execution_count": 22
        }
      ]
    },
    {
      "cell_type": "markdown",
      "source": [
        "## GoogleNet"
      ],
      "metadata": {
        "id": "9sLBB_nDFXJO"
      }
    },
    {
      "cell_type": "code",
      "source": [
        "from torchvision.models import googlenet, GoogLeNet_Weights"
      ],
      "metadata": {
        "id": "U_9OhB7JFf4B"
      },
      "execution_count": null,
      "outputs": []
    },
    {
      "cell_type": "code",
      "source": [
        "googlenet_model = googlenet(weights = GoogLeNet_Weights.IMAGENET1K_V1)"
      ],
      "metadata": {
        "id": "ernzUIydFTel"
      },
      "execution_count": null,
      "outputs": []
    },
    {
      "cell_type": "code",
      "source": [
        "for i in googlenet_model.children():\n",
        "    for param in i.parameters():\n",
        "        param.requires_grad = False"
      ],
      "metadata": {
        "id": "lyT4AksuJ8t3"
      },
      "execution_count": null,
      "outputs": []
    },
    {
      "cell_type": "code",
      "source": [
        "googlenet_model.fc = nn.Sequential(nn.Linear(in_features=1024, out_features=512, bias=True),\n",
        "                                   nn.ReLU(),\n",
        "                                   nn.Linear(in_features=512, out_features=10, bias=True))"
      ],
      "metadata": {
        "id": "Fd-7lw8tJPhv"
      },
      "execution_count": null,
      "outputs": []
    },
    {
      "cell_type": "code",
      "source": [
        "for i in googlenet_model.children():\n",
        "    for param in i.parameters():\n",
        "        if param.requires_grad : print(param.requires_grad)"
      ],
      "metadata": {
        "colab": {
          "base_uri": "https://localhost:8080/"
        },
        "id": "UIsR_QM8J1OR",
        "outputId": "8eb337ab-e2a0-4cc5-b7ed-94f056a4cc12"
      },
      "execution_count": null,
      "outputs": [
        {
          "output_type": "stream",
          "name": "stdout",
          "text": [
            "True\n",
            "True\n",
            "True\n",
            "True\n"
          ]
        }
      ]
    },
    {
      "cell_type": "code",
      "source": [
        "opt2 = torch.optim.Adam(params = googlenet_model.parameters())"
      ],
      "metadata": {
        "id": "LfnmidbGKBOz"
      },
      "execution_count": null,
      "outputs": []
    },
    {
      "cell_type": "code",
      "source": [
        "fit_model(epochs = 10,  \n",
        "          model = googlenet_model,\n",
        "          trainloader = trainloader,\n",
        "          optimizer = opt2)"
      ],
      "metadata": {
        "colab": {
          "base_uri": "https://localhost:8080/"
        },
        "id": "6n8G_h5CKNNL",
        "outputId": "22637ee0-1da9-4b4f-ea63-981b80a0712b"
      },
      "execution_count": null,
      "outputs": [
        {
          "output_type": "stream",
          "name": "stderr",
          "text": [
            "100%|██████████| 10/10 [18:48<00:00, 112.81s/it]\n"
          ]
        }
      ]
    },
    {
      "cell_type": "code",
      "source": [
        "googlenet_accuracy = get_accuracy(model = googlenet_model,\n",
        "                                testloader = testloader)\n",
        "googlenet_accuracy"
      ],
      "metadata": {
        "colab": {
          "base_uri": "https://localhost:8080/"
        },
        "id": "SCXF7OzmKPR3",
        "outputId": "17c62faa-3740-43aa-c953-b3e88a000755"
      },
      "execution_count": null,
      "outputs": [
        {
          "output_type": "execute_result",
          "data": {
            "text/plain": [
              "0.7366"
            ]
          },
          "metadata": {},
          "execution_count": 37
        }
      ]
    },
    {
      "cell_type": "markdown",
      "source": [
        "## VGG 11"
      ],
      "metadata": {
        "id": "saxL3CvDKYRm"
      }
    },
    {
      "cell_type": "code",
      "source": [
        "from torchvision.models import vgg11, VGG11_Weights"
      ],
      "metadata": {
        "id": "XL35NUPHKXTs"
      },
      "execution_count": 17,
      "outputs": []
    },
    {
      "cell_type": "code",
      "source": [
        "vgg11_model = vgg11(weights = VGG11_Weights.IMAGENET1K_V1)"
      ],
      "metadata": {
        "id": "O6YJqBlvOOE1"
      },
      "execution_count": 18,
      "outputs": []
    },
    {
      "cell_type": "code",
      "source": [
        "for i in vgg11_model.children():\n",
        "    for param in i.parameters():\n",
        "        param.requires_grad = False"
      ],
      "metadata": {
        "id": "cdxutwR5OWkg"
      },
      "execution_count": 19,
      "outputs": []
    },
    {
      "cell_type": "code",
      "source": [
        "vgg11_model.classifier = nn.Sequential(nn.Linear(in_features=25088, out_features=4096, bias=True),\n",
        "                                       nn.ReLU(inplace=True),\n",
        "                                       nn.Dropout(p=0.5, inplace=False),\n",
        "                                       nn.Linear(in_features=4096, out_features=1024, bias=True),\n",
        "                                       nn.ReLU(inplace=True),\n",
        "                                       nn.Dropout(p=0.5, inplace=False),\n",
        "                                       nn.Linear(in_features=1024, out_features=10, bias=True))"
      ],
      "metadata": {
        "id": "WwpMF8gdOYS6"
      },
      "execution_count": 20,
      "outputs": []
    },
    {
      "cell_type": "code",
      "source": [
        "for i in vgg11_model.children():\n",
        "    for param in i.parameters():\n",
        "        if param.requires_grad : print(param.requires_grad)"
      ],
      "metadata": {
        "colab": {
          "base_uri": "https://localhost:8080/"
        },
        "id": "ajlJrDHiPWGM",
        "outputId": "9d161aea-8a1c-46ff-88f0-f2884073d76c"
      },
      "execution_count": 21,
      "outputs": [
        {
          "output_type": "stream",
          "name": "stdout",
          "text": [
            "True\n",
            "True\n",
            "True\n",
            "True\n",
            "True\n",
            "True\n"
          ]
        }
      ]
    },
    {
      "cell_type": "code",
      "source": [
        "opt3 = torch.optim.Adam(params = vgg11_model.parameters())"
      ],
      "metadata": {
        "id": "OZOmuhxMPYo2"
      },
      "execution_count": 22,
      "outputs": []
    },
    {
      "cell_type": "code",
      "source": [
        "fit_model(epochs = 5,  \n",
        "          model = vgg11_model,\n",
        "          trainloader = trainloader,\n",
        "          optimizer = opt3)"
      ],
      "metadata": {
        "colab": {
          "base_uri": "https://localhost:8080/"
        },
        "id": "kklkLRUlQdRO",
        "outputId": "6ce842b1-b272-49b3-f838-3017b1e5c99b"
      },
      "execution_count": 23,
      "outputs": [
        {
          "output_type": "stream",
          "name": "stderr",
          "text": [
            "100%|██████████| 5/5 [21:05<00:00, 253.09s/it]\n"
          ]
        }
      ]
    },
    {
      "cell_type": "code",
      "source": [
        "vgg11_accuracy = get_accuracy(model = vgg11_model,\n",
        "                              testloader = testloader)\n",
        "vgg11_accuracy"
      ],
      "metadata": {
        "colab": {
          "base_uri": "https://localhost:8080/"
        },
        "id": "5jBdcpXPQg5g",
        "outputId": "17bff9c8-60cb-49d7-f4aa-0b90303021e1"
      },
      "execution_count": 24,
      "outputs": [
        {
          "output_type": "execute_result",
          "data": {
            "text/plain": [
              "0.7937"
            ]
          },
          "metadata": {},
          "execution_count": 24
        }
      ]
    },
    {
      "cell_type": "markdown",
      "source": [
        "## ResNet 18"
      ],
      "metadata": {
        "id": "LJPZ1UkyTphD"
      }
    },
    {
      "cell_type": "code",
      "source": [
        "from torchvision.models import resnet18, ResNet18_Weights"
      ],
      "metadata": {
        "id": "jVsoqLy6Q0-z"
      },
      "execution_count": 31,
      "outputs": []
    },
    {
      "cell_type": "code",
      "source": [
        "resnet18_model = resnet18(weights = ResNet18_Weights.IMAGENET1K_V1)"
      ],
      "metadata": {
        "id": "yVerA7YyUAJ4"
      },
      "execution_count": 32,
      "outputs": []
    },
    {
      "cell_type": "code",
      "source": [
        "for i in resnet18_model.children():\n",
        "    for param in i.parameters():\n",
        "        param.requires_grad = False"
      ],
      "metadata": {
        "id": "p3K_ud7KdzvI"
      },
      "execution_count": 33,
      "outputs": []
    },
    {
      "cell_type": "code",
      "source": [
        "resnet18_model.fc = nn.Linear(in_features=512, out_features=10, bias=True)"
      ],
      "metadata": {
        "id": "qSAWlxgkUGs9"
      },
      "execution_count": 34,
      "outputs": []
    },
    {
      "cell_type": "code",
      "source": [
        "opt4 = torch.optim.Adam(params = resnet18_model.parameters())"
      ],
      "metadata": {
        "id": "LKYEK30Qd7l3"
      },
      "execution_count": 35,
      "outputs": []
    },
    {
      "cell_type": "code",
      "source": [
        "fit_model(epochs = 10,  \n",
        "          model = resnet18_model,\n",
        "          trainloader = trainloader,\n",
        "          optimizer = opt4)"
      ],
      "metadata": {
        "colab": {
          "base_uri": "https://localhost:8080/"
        },
        "id": "ZlgmD6JbUIMX",
        "outputId": "196c313e-431b-437e-b1c5-fa4c436ac86c"
      },
      "execution_count": 36,
      "outputs": [
        {
          "output_type": "stream",
          "name": "stderr",
          "text": [
            "100%|██████████| 10/10 [16:42<00:00, 100.25s/it]\n"
          ]
        }
      ]
    },
    {
      "cell_type": "code",
      "source": [
        "resnet18_accuracy = get_accuracy(model = resnet18_model,\n",
        "                                 testloader = testloader)\n",
        "resnet18_accuracy"
      ],
      "metadata": {
        "colab": {
          "base_uri": "https://localhost:8080/"
        },
        "id": "8sLnO1cdeCcY",
        "outputId": "15f7decf-254c-4e20-b575-e823e68eaaa2"
      },
      "execution_count": 37,
      "outputs": [
        {
          "output_type": "execute_result",
          "data": {
            "text/plain": [
              "0.7511"
            ]
          },
          "metadata": {},
          "execution_count": 37
        }
      ]
    },
    {
      "cell_type": "markdown",
      "source": [
        "## Сравнительная таблица"
      ],
      "metadata": {
        "id": "Ntl5d_lje3vy"
      }
    },
    {
      "cell_type": "code",
      "source": [
        "results = pd.DataFrame({'Model': ['AlexNet', 'GoogleNet', 'VGG 11', 'ResNet 18'],\n",
        "                        'Number of params': ['61.1M', '6.6M', '132.9M', '11.7M'],\n",
        "                        'Epochs': [10, 10, 5, 10],\n",
        "                        'Train time': ['16:02', '18:48', '21.05', '16:42'],\n",
        "                        'Accuracy': [0.787, 0.736, 0.793, 0.751]})"
      ],
      "metadata": {
        "id": "x3w5E5H_em06"
      },
      "execution_count": 38,
      "outputs": []
    },
    {
      "cell_type": "code",
      "source": [
        "results"
      ],
      "metadata": {
        "colab": {
          "base_uri": "https://localhost:8080/",
          "height": 173
        },
        "id": "e7km2MoHgNTB",
        "outputId": "38f0017f-adf3-4b3c-c125-5adf836af059"
      },
      "execution_count": 39,
      "outputs": [
        {
          "output_type": "execute_result",
          "data": {
            "text/plain": [
              "       Model Number of params  Epochs Train time  Accuracy\n",
              "0    AlexNet            61.1M      10      16:02     0.787\n",
              "1  GoogleNet             6.6M      10      18:48     0.736\n",
              "2     VGG 11           132.9M       5      21.05     0.793\n",
              "3  ResNet 18            11.7M      10      16:42     0.751"
            ],
            "text/html": [
              "\n",
              "  <div id=\"df-8503be61-a34c-4aed-be34-2f35e1ab9101\">\n",
              "    <div class=\"colab-df-container\">\n",
              "      <div>\n",
              "<style scoped>\n",
              "    .dataframe tbody tr th:only-of-type {\n",
              "        vertical-align: middle;\n",
              "    }\n",
              "\n",
              "    .dataframe tbody tr th {\n",
              "        vertical-align: top;\n",
              "    }\n",
              "\n",
              "    .dataframe thead th {\n",
              "        text-align: right;\n",
              "    }\n",
              "</style>\n",
              "<table border=\"1\" class=\"dataframe\">\n",
              "  <thead>\n",
              "    <tr style=\"text-align: right;\">\n",
              "      <th></th>\n",
              "      <th>Model</th>\n",
              "      <th>Number of params</th>\n",
              "      <th>Epochs</th>\n",
              "      <th>Train time</th>\n",
              "      <th>Accuracy</th>\n",
              "    </tr>\n",
              "  </thead>\n",
              "  <tbody>\n",
              "    <tr>\n",
              "      <th>0</th>\n",
              "      <td>AlexNet</td>\n",
              "      <td>61.1M</td>\n",
              "      <td>10</td>\n",
              "      <td>16:02</td>\n",
              "      <td>0.787</td>\n",
              "    </tr>\n",
              "    <tr>\n",
              "      <th>1</th>\n",
              "      <td>GoogleNet</td>\n",
              "      <td>6.6M</td>\n",
              "      <td>10</td>\n",
              "      <td>18:48</td>\n",
              "      <td>0.736</td>\n",
              "    </tr>\n",
              "    <tr>\n",
              "      <th>2</th>\n",
              "      <td>VGG 11</td>\n",
              "      <td>132.9M</td>\n",
              "      <td>5</td>\n",
              "      <td>21.05</td>\n",
              "      <td>0.793</td>\n",
              "    </tr>\n",
              "    <tr>\n",
              "      <th>3</th>\n",
              "      <td>ResNet 18</td>\n",
              "      <td>11.7M</td>\n",
              "      <td>10</td>\n",
              "      <td>16:42</td>\n",
              "      <td>0.751</td>\n",
              "    </tr>\n",
              "  </tbody>\n",
              "</table>\n",
              "</div>\n",
              "      <button class=\"colab-df-convert\" onclick=\"convertToInteractive('df-8503be61-a34c-4aed-be34-2f35e1ab9101')\"\n",
              "              title=\"Convert this dataframe to an interactive table.\"\n",
              "              style=\"display:none;\">\n",
              "        \n",
              "  <svg xmlns=\"http://www.w3.org/2000/svg\" height=\"24px\"viewBox=\"0 0 24 24\"\n",
              "       width=\"24px\">\n",
              "    <path d=\"M0 0h24v24H0V0z\" fill=\"none\"/>\n",
              "    <path d=\"M18.56 5.44l.94 2.06.94-2.06 2.06-.94-2.06-.94-.94-2.06-.94 2.06-2.06.94zm-11 1L8.5 8.5l.94-2.06 2.06-.94-2.06-.94L8.5 2.5l-.94 2.06-2.06.94zm10 10l.94 2.06.94-2.06 2.06-.94-2.06-.94-.94-2.06-.94 2.06-2.06.94z\"/><path d=\"M17.41 7.96l-1.37-1.37c-.4-.4-.92-.59-1.43-.59-.52 0-1.04.2-1.43.59L10.3 9.45l-7.72 7.72c-.78.78-.78 2.05 0 2.83L4 21.41c.39.39.9.59 1.41.59.51 0 1.02-.2 1.41-.59l7.78-7.78 2.81-2.81c.8-.78.8-2.07 0-2.86zM5.41 20L4 18.59l7.72-7.72 1.47 1.35L5.41 20z\"/>\n",
              "  </svg>\n",
              "      </button>\n",
              "      \n",
              "  <style>\n",
              "    .colab-df-container {\n",
              "      display:flex;\n",
              "      flex-wrap:wrap;\n",
              "      gap: 12px;\n",
              "    }\n",
              "\n",
              "    .colab-df-convert {\n",
              "      background-color: #E8F0FE;\n",
              "      border: none;\n",
              "      border-radius: 50%;\n",
              "      cursor: pointer;\n",
              "      display: none;\n",
              "      fill: #1967D2;\n",
              "      height: 32px;\n",
              "      padding: 0 0 0 0;\n",
              "      width: 32px;\n",
              "    }\n",
              "\n",
              "    .colab-df-convert:hover {\n",
              "      background-color: #E2EBFA;\n",
              "      box-shadow: 0px 1px 2px rgba(60, 64, 67, 0.3), 0px 1px 3px 1px rgba(60, 64, 67, 0.15);\n",
              "      fill: #174EA6;\n",
              "    }\n",
              "\n",
              "    [theme=dark] .colab-df-convert {\n",
              "      background-color: #3B4455;\n",
              "      fill: #D2E3FC;\n",
              "    }\n",
              "\n",
              "    [theme=dark] .colab-df-convert:hover {\n",
              "      background-color: #434B5C;\n",
              "      box-shadow: 0px 1px 3px 1px rgba(0, 0, 0, 0.15);\n",
              "      filter: drop-shadow(0px 1px 2px rgba(0, 0, 0, 0.3));\n",
              "      fill: #FFFFFF;\n",
              "    }\n",
              "  </style>\n",
              "\n",
              "      <script>\n",
              "        const buttonEl =\n",
              "          document.querySelector('#df-8503be61-a34c-4aed-be34-2f35e1ab9101 button.colab-df-convert');\n",
              "        buttonEl.style.display =\n",
              "          google.colab.kernel.accessAllowed ? 'block' : 'none';\n",
              "\n",
              "        async function convertToInteractive(key) {\n",
              "          const element = document.querySelector('#df-8503be61-a34c-4aed-be34-2f35e1ab9101');\n",
              "          const dataTable =\n",
              "            await google.colab.kernel.invokeFunction('convertToInteractive',\n",
              "                                                     [key], {});\n",
              "          if (!dataTable) return;\n",
              "\n",
              "          const docLinkHtml = 'Like what you see? Visit the ' +\n",
              "            '<a target=\"_blank\" href=https://colab.research.google.com/notebooks/data_table.ipynb>data table notebook</a>'\n",
              "            + ' to learn more about interactive tables.';\n",
              "          element.innerHTML = '';\n",
              "          dataTable['output_type'] = 'display_data';\n",
              "          await google.colab.output.renderOutput(dataTable, element);\n",
              "          const docLink = document.createElement('div');\n",
              "          docLink.innerHTML = docLinkHtml;\n",
              "          element.appendChild(docLink);\n",
              "        }\n",
              "      </script>\n",
              "    </div>\n",
              "  </div>\n",
              "  "
            ]
          },
          "metadata": {},
          "execution_count": 39
        }
      ]
    },
    {
      "cell_type": "code",
      "source": [],
      "metadata": {
        "id": "g9_k1j-8oEXo"
      },
      "execution_count": null,
      "outputs": []
    }
  ]
}