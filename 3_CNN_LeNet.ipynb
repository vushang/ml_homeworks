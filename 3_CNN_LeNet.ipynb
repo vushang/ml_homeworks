{
  "nbformat": 4,
  "nbformat_minor": 0,
  "metadata": {
    "colab": {
      "provenance": []
    },
    "kernelspec": {
      "name": "python3",
      "display_name": "Python 3"
    },
    "language_info": {
      "name": "python"
    },
    "accelerator": "GPU",
    "widgets": {
      "application/vnd.jupyter.widget-state+json": {
        "80d8e87dd4fa4df89f7f1d5e278536a3": {
          "model_module": "@jupyter-widgets/controls",
          "model_name": "HBoxModel",
          "model_module_version": "1.5.0",
          "state": {
            "_dom_classes": [],
            "_model_module": "@jupyter-widgets/controls",
            "_model_module_version": "1.5.0",
            "_model_name": "HBoxModel",
            "_view_count": null,
            "_view_module": "@jupyter-widgets/controls",
            "_view_module_version": "1.5.0",
            "_view_name": "HBoxView",
            "box_style": "",
            "children": [
              "IPY_MODEL_c4093572e4f1431cbe418688800a45ac",
              "IPY_MODEL_4041b0c456bf4e678673334b7e210291",
              "IPY_MODEL_3df05b6855384694a24012ec4cdbf27d"
            ],
            "layout": "IPY_MODEL_af349b5221e5430f8fa655e719554971"
          }
        },
        "c4093572e4f1431cbe418688800a45ac": {
          "model_module": "@jupyter-widgets/controls",
          "model_name": "HTMLModel",
          "model_module_version": "1.5.0",
          "state": {
            "_dom_classes": [],
            "_model_module": "@jupyter-widgets/controls",
            "_model_module_version": "1.5.0",
            "_model_name": "HTMLModel",
            "_view_count": null,
            "_view_module": "@jupyter-widgets/controls",
            "_view_module_version": "1.5.0",
            "_view_name": "HTMLView",
            "description": "",
            "description_tooltip": null,
            "layout": "IPY_MODEL_e5993cf4772a4d7c8174067f04b8ba32",
            "placeholder": "​",
            "style": "IPY_MODEL_82406445c26f44bcb87c9e54ee82bcef",
            "value": "100%"
          }
        },
        "4041b0c456bf4e678673334b7e210291": {
          "model_module": "@jupyter-widgets/controls",
          "model_name": "FloatProgressModel",
          "model_module_version": "1.5.0",
          "state": {
            "_dom_classes": [],
            "_model_module": "@jupyter-widgets/controls",
            "_model_module_version": "1.5.0",
            "_model_name": "FloatProgressModel",
            "_view_count": null,
            "_view_module": "@jupyter-widgets/controls",
            "_view_module_version": "1.5.0",
            "_view_name": "ProgressView",
            "bar_style": "success",
            "description": "",
            "description_tooltip": null,
            "layout": "IPY_MODEL_b8cca9f1b7aa4e1e878b805c302117fe",
            "max": 170498071,
            "min": 0,
            "orientation": "horizontal",
            "style": "IPY_MODEL_160dd3837d364d1ea1e0cdec283073ec",
            "value": 170498071
          }
        },
        "3df05b6855384694a24012ec4cdbf27d": {
          "model_module": "@jupyter-widgets/controls",
          "model_name": "HTMLModel",
          "model_module_version": "1.5.0",
          "state": {
            "_dom_classes": [],
            "_model_module": "@jupyter-widgets/controls",
            "_model_module_version": "1.5.0",
            "_model_name": "HTMLModel",
            "_view_count": null,
            "_view_module": "@jupyter-widgets/controls",
            "_view_module_version": "1.5.0",
            "_view_name": "HTMLView",
            "description": "",
            "description_tooltip": null,
            "layout": "IPY_MODEL_18d6cf37cd3b443caedd336ac9a4539b",
            "placeholder": "​",
            "style": "IPY_MODEL_b57745200b274988a4276e5a09256039",
            "value": " 170498071/170498071 [00:14&lt;00:00, 12082399.08it/s]"
          }
        },
        "af349b5221e5430f8fa655e719554971": {
          "model_module": "@jupyter-widgets/base",
          "model_name": "LayoutModel",
          "model_module_version": "1.2.0",
          "state": {
            "_model_module": "@jupyter-widgets/base",
            "_model_module_version": "1.2.0",
            "_model_name": "LayoutModel",
            "_view_count": null,
            "_view_module": "@jupyter-widgets/base",
            "_view_module_version": "1.2.0",
            "_view_name": "LayoutView",
            "align_content": null,
            "align_items": null,
            "align_self": null,
            "border": null,
            "bottom": null,
            "display": null,
            "flex": null,
            "flex_flow": null,
            "grid_area": null,
            "grid_auto_columns": null,
            "grid_auto_flow": null,
            "grid_auto_rows": null,
            "grid_column": null,
            "grid_gap": null,
            "grid_row": null,
            "grid_template_areas": null,
            "grid_template_columns": null,
            "grid_template_rows": null,
            "height": null,
            "justify_content": null,
            "justify_items": null,
            "left": null,
            "margin": null,
            "max_height": null,
            "max_width": null,
            "min_height": null,
            "min_width": null,
            "object_fit": null,
            "object_position": null,
            "order": null,
            "overflow": null,
            "overflow_x": null,
            "overflow_y": null,
            "padding": null,
            "right": null,
            "top": null,
            "visibility": null,
            "width": null
          }
        },
        "e5993cf4772a4d7c8174067f04b8ba32": {
          "model_module": "@jupyter-widgets/base",
          "model_name": "LayoutModel",
          "model_module_version": "1.2.0",
          "state": {
            "_model_module": "@jupyter-widgets/base",
            "_model_module_version": "1.2.0",
            "_model_name": "LayoutModel",
            "_view_count": null,
            "_view_module": "@jupyter-widgets/base",
            "_view_module_version": "1.2.0",
            "_view_name": "LayoutView",
            "align_content": null,
            "align_items": null,
            "align_self": null,
            "border": null,
            "bottom": null,
            "display": null,
            "flex": null,
            "flex_flow": null,
            "grid_area": null,
            "grid_auto_columns": null,
            "grid_auto_flow": null,
            "grid_auto_rows": null,
            "grid_column": null,
            "grid_gap": null,
            "grid_row": null,
            "grid_template_areas": null,
            "grid_template_columns": null,
            "grid_template_rows": null,
            "height": null,
            "justify_content": null,
            "justify_items": null,
            "left": null,
            "margin": null,
            "max_height": null,
            "max_width": null,
            "min_height": null,
            "min_width": null,
            "object_fit": null,
            "object_position": null,
            "order": null,
            "overflow": null,
            "overflow_x": null,
            "overflow_y": null,
            "padding": null,
            "right": null,
            "top": null,
            "visibility": null,
            "width": null
          }
        },
        "82406445c26f44bcb87c9e54ee82bcef": {
          "model_module": "@jupyter-widgets/controls",
          "model_name": "DescriptionStyleModel",
          "model_module_version": "1.5.0",
          "state": {
            "_model_module": "@jupyter-widgets/controls",
            "_model_module_version": "1.5.0",
            "_model_name": "DescriptionStyleModel",
            "_view_count": null,
            "_view_module": "@jupyter-widgets/base",
            "_view_module_version": "1.2.0",
            "_view_name": "StyleView",
            "description_width": ""
          }
        },
        "b8cca9f1b7aa4e1e878b805c302117fe": {
          "model_module": "@jupyter-widgets/base",
          "model_name": "LayoutModel",
          "model_module_version": "1.2.0",
          "state": {
            "_model_module": "@jupyter-widgets/base",
            "_model_module_version": "1.2.0",
            "_model_name": "LayoutModel",
            "_view_count": null,
            "_view_module": "@jupyter-widgets/base",
            "_view_module_version": "1.2.0",
            "_view_name": "LayoutView",
            "align_content": null,
            "align_items": null,
            "align_self": null,
            "border": null,
            "bottom": null,
            "display": null,
            "flex": null,
            "flex_flow": null,
            "grid_area": null,
            "grid_auto_columns": null,
            "grid_auto_flow": null,
            "grid_auto_rows": null,
            "grid_column": null,
            "grid_gap": null,
            "grid_row": null,
            "grid_template_areas": null,
            "grid_template_columns": null,
            "grid_template_rows": null,
            "height": null,
            "justify_content": null,
            "justify_items": null,
            "left": null,
            "margin": null,
            "max_height": null,
            "max_width": null,
            "min_height": null,
            "min_width": null,
            "object_fit": null,
            "object_position": null,
            "order": null,
            "overflow": null,
            "overflow_x": null,
            "overflow_y": null,
            "padding": null,
            "right": null,
            "top": null,
            "visibility": null,
            "width": null
          }
        },
        "160dd3837d364d1ea1e0cdec283073ec": {
          "model_module": "@jupyter-widgets/controls",
          "model_name": "ProgressStyleModel",
          "model_module_version": "1.5.0",
          "state": {
            "_model_module": "@jupyter-widgets/controls",
            "_model_module_version": "1.5.0",
            "_model_name": "ProgressStyleModel",
            "_view_count": null,
            "_view_module": "@jupyter-widgets/base",
            "_view_module_version": "1.2.0",
            "_view_name": "StyleView",
            "bar_color": null,
            "description_width": ""
          }
        },
        "18d6cf37cd3b443caedd336ac9a4539b": {
          "model_module": "@jupyter-widgets/base",
          "model_name": "LayoutModel",
          "model_module_version": "1.2.0",
          "state": {
            "_model_module": "@jupyter-widgets/base",
            "_model_module_version": "1.2.0",
            "_model_name": "LayoutModel",
            "_view_count": null,
            "_view_module": "@jupyter-widgets/base",
            "_view_module_version": "1.2.0",
            "_view_name": "LayoutView",
            "align_content": null,
            "align_items": null,
            "align_self": null,
            "border": null,
            "bottom": null,
            "display": null,
            "flex": null,
            "flex_flow": null,
            "grid_area": null,
            "grid_auto_columns": null,
            "grid_auto_flow": null,
            "grid_auto_rows": null,
            "grid_column": null,
            "grid_gap": null,
            "grid_row": null,
            "grid_template_areas": null,
            "grid_template_columns": null,
            "grid_template_rows": null,
            "height": null,
            "justify_content": null,
            "justify_items": null,
            "left": null,
            "margin": null,
            "max_height": null,
            "max_width": null,
            "min_height": null,
            "min_width": null,
            "object_fit": null,
            "object_position": null,
            "order": null,
            "overflow": null,
            "overflow_x": null,
            "overflow_y": null,
            "padding": null,
            "right": null,
            "top": null,
            "visibility": null,
            "width": null
          }
        },
        "b57745200b274988a4276e5a09256039": {
          "model_module": "@jupyter-widgets/controls",
          "model_name": "DescriptionStyleModel",
          "model_module_version": "1.5.0",
          "state": {
            "_model_module": "@jupyter-widgets/controls",
            "_model_module_version": "1.5.0",
            "_model_name": "DescriptionStyleModel",
            "_view_count": null,
            "_view_module": "@jupyter-widgets/base",
            "_view_module_version": "1.2.0",
            "_view_name": "StyleView",
            "description_width": ""
          }
        }
      }
    }
  },
  "cells": [
    {
      "cell_type": "code",
      "metadata": {
        "colab": {
          "base_uri": "https://localhost:8080/"
        },
        "id": "nQUphGo_FP7C",
        "outputId": "e78097b4-3344-46d3-91e2-fcdc04efb383"
      },
      "source": [
        "#pip install torch"
      ],
      "execution_count": null,
      "outputs": [
        {
          "output_type": "stream",
          "name": "stdout",
          "text": [
            "Requirement already satisfied: torch in /usr/local/lib/python3.7/dist-packages (1.10.0+cu111)\n",
            "Requirement already satisfied: typing-extensions in /usr/local/lib/python3.7/dist-packages (from torch) (3.10.0.2)\n"
          ]
        }
      ]
    },
    {
      "cell_type": "code",
      "metadata": {
        "id": "XApxLDa2GUo8"
      },
      "source": [
        "import torch\n",
        "import numpy as np\n",
        "import pandas as pd\n",
        "import matplotlib.pyplot as plt\n",
        "import random\n",
        "from torch import nn\n",
        "from tqdm import tqdm"
      ],
      "execution_count": null,
      "outputs": []
    },
    {
      "cell_type": "markdown",
      "metadata": {
        "id": "qn5E4EO0GgT_"
      },
      "source": [
        "Изменим сеть LeNet, для повышения качества на валидации. Функции активации tanh() уже не используют, так как они приводят к затуханию градиента. Свертку 5 на 5 тоже не используют, используют две свертки 3 на 3 (весов меньше, следовательно, меньше вероятность переобучения). AvdPool тоже не используют. Нужно заменить на MaxPool."
      ]
    },
    {
      "cell_type": "markdown",
      "metadata": {
        "id": "fJWyFgelcbhb"
      },
      "source": [
        "Мы использовали датасет MNIST, но на нем сети всегда хорошо обучаются. Возьмем датасет посложнее -  CIFAR-10, 10 классов, а есть CIFAR-100, 100 классов."
      ]
    },
    {
      "cell_type": "code",
      "metadata": {
        "id": "itjwqkxicqhx"
      },
      "source": [
        "random.seed(0)\n",
        "np.random.seed(0)\n",
        "torch.manual_seed(0)\n",
        "torch.cuda.manual_seed(0)\n",
        "torch.backends.cudnn.deterministic=True"
      ],
      "execution_count": null,
      "outputs": []
    },
    {
      "cell_type": "code",
      "metadata": {
        "colab": {
          "base_uri": "https://localhost:8080/",
          "height": 100,
          "referenced_widgets": [
            "80d8e87dd4fa4df89f7f1d5e278536a3",
            "c4093572e4f1431cbe418688800a45ac",
            "4041b0c456bf4e678673334b7e210291",
            "3df05b6855384694a24012ec4cdbf27d",
            "af349b5221e5430f8fa655e719554971",
            "e5993cf4772a4d7c8174067f04b8ba32",
            "82406445c26f44bcb87c9e54ee82bcef",
            "b8cca9f1b7aa4e1e878b805c302117fe",
            "160dd3837d364d1ea1e0cdec283073ec",
            "18d6cf37cd3b443caedd336ac9a4539b",
            "b57745200b274988a4276e5a09256039"
          ]
        },
        "id": "JJUZGRdW-FpP",
        "outputId": "0cb6fde9-b690-406d-fc70-a403f8840a32"
      },
      "source": [
        "#скачивание датасета для классификации изображений\n",
        "import torchvision.datasets\n",
        "\n",
        "CIFAR_train = torchvision.datasets.CIFAR10('./', download = True, train = True)\n",
        "CIFAR_test = torchvision.datasets.CIFAR10('./', download = True, train = False)"
      ],
      "execution_count": null,
      "outputs": [
        {
          "output_type": "stream",
          "name": "stdout",
          "text": [
            "Downloading https://www.cs.toronto.edu/~kriz/cifar-10-python.tar.gz to ./cifar-10-python.tar.gz\n"
          ]
        },
        {
          "output_type": "display_data",
          "data": {
            "text/plain": [
              "  0%|          | 0/170498071 [00:00<?, ?it/s]"
            ],
            "application/vnd.jupyter.widget-view+json": {
              "version_major": 2,
              "version_minor": 0,
              "model_id": "80d8e87dd4fa4df89f7f1d5e278536a3"
            }
          },
          "metadata": {}
        },
        {
          "output_type": "stream",
          "name": "stdout",
          "text": [
            "Extracting ./cifar-10-python.tar.gz to ./\n",
            "Files already downloaded and verified\n"
          ]
        }
      ]
    },
    {
      "cell_type": "code",
      "metadata": {
        "id": "MO3YYT3I-aAo"
      },
      "source": [
        "X_train = torch.FloatTensor(CIFAR_train.data)\n",
        "y_train = torch.LongTensor(CIFAR_train.targets)\n",
        "X_test = torch.FloatTensor(CIFAR_test.data)\n",
        "y_test = torch.LongTensor(CIFAR_test.targets)"
      ],
      "execution_count": null,
      "outputs": []
    },
    {
      "cell_type": "code",
      "metadata": {
        "colab": {
          "base_uri": "https://localhost:8080/"
        },
        "id": "aJL7kEPT--rP",
        "outputId": "b9cad8d5-ecc8-40a2-8496-0bc6d33c657f"
      },
      "source": [
        "X_train.min(),X_train.max()"
      ],
      "execution_count": null,
      "outputs": [
        {
          "output_type": "execute_result",
          "data": {
            "text/plain": [
              "(tensor(0.), tensor(255.))"
            ]
          },
          "metadata": {},
          "execution_count": 5
        }
      ]
    },
    {
      "cell_type": "markdown",
      "metadata": {
        "id": "CAiVp_wf_SxL"
      },
      "source": [
        "Каждый цвет кодируется от 0 до 255 в виде float. Чтобы отобразить, нужны либо int 0-255, либо float 0-1. У нас тензоры float."
      ]
    },
    {
      "cell_type": "code",
      "metadata": {
        "id": "sGhHjZ3m_fO5"
      },
      "source": [
        "X_train/= 255\n",
        "X_test/= 255"
      ],
      "execution_count": null,
      "outputs": []
    },
    {
      "cell_type": "code",
      "metadata": {
        "colab": {
          "base_uri": "https://localhost:8080/"
        },
        "id": "akq9lxbj_m7A",
        "outputId": "e638fd95-a4d9-4b95-ccd4-7886436b42fa"
      },
      "source": [
        "CIFAR_train.classes"
      ],
      "execution_count": null,
      "outputs": [
        {
          "output_type": "execute_result",
          "data": {
            "text/plain": [
              "['airplane',\n",
              " 'automobile',\n",
              " 'bird',\n",
              " 'cat',\n",
              " 'deer',\n",
              " 'dog',\n",
              " 'frog',\n",
              " 'horse',\n",
              " 'ship',\n",
              " 'truck']"
            ]
          },
          "metadata": {},
          "execution_count": 7
        }
      ]
    },
    {
      "cell_type": "code",
      "metadata": {
        "colab": {
          "base_uri": "https://localhost:8080/",
          "height": 447
        },
        "id": "bmv97jzK_reo",
        "outputId": "f90c2714-c78b-45a2-d0a5-52e123cd4b19"
      },
      "source": [
        "import matplotlib.pyplot as plt\n",
        "plt.imshow(X_train[25])"
      ],
      "execution_count": null,
      "outputs": [
        {
          "output_type": "execute_result",
          "data": {
            "text/plain": [
              "<matplotlib.image.AxesImage at 0x7f491c225fd0>"
            ]
          },
          "metadata": {},
          "execution_count": 8
        },
        {
          "output_type": "display_data",
          "data": {
            "text/plain": [
              "<Figure size 640x480 with 1 Axes>"
            ],
            "image/png": "[encoded data removed]"
          },
          "metadata": {}
        }
      ]
    },
    {
      "cell_type": "code",
      "metadata": {
        "colab": {
          "base_uri": "https://localhost:8080/"
        },
        "id": "MUIxMAT9APuJ",
        "outputId": "ffa3eb38-a015-42dc-d13b-f5ccbe3f0655"
      },
      "source": [
        "X_train.shape"
      ],
      "execution_count": null,
      "outputs": [
        {
          "output_type": "execute_result",
          "data": {
            "text/plain": [
              "torch.Size([50000, 32, 32, 3])"
            ]
          },
          "metadata": {},
          "execution_count": 9
        }
      ]
    },
    {
      "cell_type": "markdown",
      "metadata": {
        "id": "PQmWVpp6AS1b"
      },
      "source": [
        "Не та размерность.\n",
        "\n",
        "Надо (кол-во изображений, кол-во каналов, высота, ширина). Каналы должны быть на 2 месте. Здесь на 4."
      ]
    },
    {
      "cell_type": "code",
      "metadata": {
        "id": "uzZopHruAelR"
      },
      "source": [
        "# с помощью метода permute изменить размерность тензора\n",
        "X_train = torch.permute(X_train, (0, 3, 1, 2))\n",
        "X_test =  torch.permute(X_test, (0, 3, 1, 2))"
      ],
      "execution_count": null,
      "outputs": []
    },
    {
      "cell_type": "code",
      "metadata": {
        "colab": {
          "base_uri": "https://localhost:8080/"
        },
        "id": "QgHdMkEUAqES",
        "outputId": "15f22f19-e869-4e4d-8efe-670e760cbed1"
      },
      "source": [
        "X_train.shape"
      ],
      "execution_count": null,
      "outputs": [
        {
          "output_type": "execute_result",
          "data": {
            "text/plain": [
              "torch.Size([50000, 3, 32, 32])"
            ]
          },
          "metadata": {},
          "execution_count": 11
        }
      ]
    },
    {
      "cell_type": "code",
      "metadata": {
        "id": "G-F_QG9hCAP4",
        "colab": {
          "base_uri": "https://localhost:8080/"
        },
        "outputId": "2a69dc30-f77d-4cd5-80b6-803ea714ac3d"
      },
      "source": [
        "device = torch.device('cuda:0' if torch.cuda.is_available() else 'cpu')\n",
        "device"
      ],
      "execution_count": null,
      "outputs": [
        {
          "output_type": "execute_result",
          "data": {
            "text/plain": [
              "device(type='cuda', index=0)"
            ]
          },
          "metadata": {},
          "execution_count": 12
        }
      ]
    },
    {
      "cell_type": "markdown",
      "source": [
        "# Функция для обучения"
      ],
      "metadata": {
        "id": "r5FxMsKwjR-j"
      }
    },
    {
      "cell_type": "code",
      "source": [
        "def fit_model(batch_size, \n",
        "              epochs,\n",
        "              X_test,\n",
        "              X_train,\n",
        "              y_test,\n",
        "              y_train,\n",
        "              model,\n",
        "              optimizer):\n",
        "    \n",
        "\n",
        "    loss_function = nn.CrossEntropyLoss()\n",
        "    \n",
        "    '''перекладываем входные данные теста на видеокарту'''\n",
        "    X_test = X_test.to(device)\n",
        "    y_test = y_test.to(device)\n",
        "\n",
        "    X_train = X_train.to(device)\n",
        "    y_train = y_train.to(device)\n",
        "\n",
        "    train_losses = []\n",
        "    test_losses = []\n",
        "\n",
        "    '''данные тренировочной выборки будем перекладывать на cuda по батчам'''\n",
        "    for epoch in tqdm(range(epochs)):\n",
        "      order = np.random.permutation(len(X_train))\n",
        "      for start_index in range (0,len(X_train), batch_size):\n",
        "\n",
        "        model.train() # перевод в режим train\n",
        "\n",
        "        optimizer.zero_grad() # обнуляем градиенты\n",
        "\n",
        "        batch_index = order[start_index:start_index+batch_size] # выделение батча из датасета\n",
        "        X_batch = X_train[batch_index] #\n",
        "        y_batch = y_train[batch_index] #\n",
        "\n",
        "        preds = model.forward(X_batch) # предсказание на батче\n",
        "        loss_val = loss_function(preds, y_batch) # лосс на батче\n",
        "        train_losses.append(loss_val) # сохраняем лосс на трейне\n",
        "\n",
        "        loss_val.backward() # расчет градиентов\n",
        "        optimizer.step() # шаг градиента + оптимизатора\n",
        "        \n",
        "        with torch.no_grad():\n",
        "            loss_test = loss_function(model.forward(X_test), y_test) # лосс на тесте\n",
        "            test_losses.append(loss_test) # сохраняем лосс на тесте\n",
        "\n",
        "    return [train_losses, test_losses]"
      ],
      "metadata": {
        "id": "xmjRtc5LEQXz"
      },
      "execution_count": null,
      "outputs": []
    },
    {
      "cell_type": "markdown",
      "source": [
        "# Классическмй LeNet5"
      ],
      "metadata": {
        "id": "RVxWP8LNbpRe"
      }
    },
    {
      "cell_type": "code",
      "metadata": {
        "id": "pztdEvpzBHW5"
      },
      "source": [
        "class LeNet5(torch.nn.Module):\n",
        "  def __init__(self):\n",
        "    super (LeNet5, self).__init__()\n",
        "    #посмотреть архитектуру LeNet в презентации\n",
        "\n",
        "    #Свертка torch.nn.Conv2d(in_channels = вход.каналы, out_channels=выход.каналы, kernel_size = ядро, padding = сколько надо паддинга)\n",
        "    #Пулинг torch.nn.AvgPool2d (kernel_size= , stride= )\n",
        "    self.conv1 = nn.Sequential(\n",
        "            nn.Conv2d(in_channels = 3, out_channels = 6, kernel_size = 5, stride = 1, padding = 2),\n",
        "            nn.Tanh(),\n",
        "            nn.AvgPool2d(kernel_size = 2, stride = 2))\n",
        "    self.conv2 = nn.Sequential(\n",
        "            nn.Conv2d(in_channels = 6, out_channels = 16, kernel_size = 5, stride = 1, padding = 0),\n",
        "            nn.Tanh(),\n",
        "            nn.AvgPool2d(kernel_size = 2, stride = 2),\n",
        "            nn.Tanh())\n",
        "    self.linear = nn.Sequential(\n",
        "            nn.Linear(576, 32),\n",
        "            nn.Tanh(),\n",
        "            nn.Linear(32, 10))\n",
        "    self.sm = nn.Softmax()\n",
        "    \n",
        "    \n",
        "\n",
        "  def forward(self,x):\n",
        "    x = self.conv1(x)\n",
        "    x = self.conv2(x)\n",
        "    #растягиваем тензор\n",
        "    x = x.view(x.size(0), x.size(1)* x.size(2) * x.size(3))\n",
        "    #x = torch.flatten(x)\n",
        "    ###################\n",
        "    x = self.linear(x)\n",
        "    return x\n",
        "\n",
        "  def predict(self,x):\n",
        "    x=self.forward(x)\n",
        "    x=self.sm(x)\n",
        "    return x\n"
      ],
      "execution_count": null,
      "outputs": []
    },
    {
      "cell_type": "code",
      "source": [
        "basic_lenet = LeNet5().to(device)\n",
        "optimizer1 = torch.optim.Adam(params = basic_lenet.parameters())"
      ],
      "metadata": {
        "id": "MTXQLtZq5XpG"
      },
      "execution_count": null,
      "outputs": []
    },
    {
      "cell_type": "code",
      "source": [
        "base_result = fit_model(batch_size = 1000, \n",
        "                        epochs = 100,\n",
        "                        X_test = X_test,\n",
        "                        X_train = X_train,\n",
        "                        y_test = y_test,\n",
        "                        y_train = y_train,\n",
        "                        model = basic_lenet,\n",
        "                        optimizer = optimizer1)\n",
        "    "
      ],
      "metadata": {
        "colab": {
          "base_uri": "https://localhost:8080/"
        },
        "id": "vY6pJz8mi5WV",
        "outputId": "27069609-2f99-4fed-c4ec-3924ada60a2d"
      },
      "execution_count": null,
      "outputs": [
        {
          "output_type": "stream",
          "name": "stderr",
          "text": [
            "100%|██████████| 100/100 [03:01<00:00,  1.81s/it]\n"
          ]
        }
      ]
    },
    {
      "cell_type": "code",
      "source": [
        "train_res_1 = [i.to('cpu').tolist() for i in base_result[0]]\n",
        "test_res_1 = [i.to('cpu').tolist() for i in base_result[1]]"
      ],
      "metadata": {
        "id": "G-VRoBElkgmD"
      },
      "execution_count": null,
      "outputs": []
    },
    {
      "cell_type": "markdown",
      "source": [
        "# LeNet с ReLU"
      ],
      "metadata": {
        "id": "abvVPDyhpKxG"
      }
    },
    {
      "cell_type": "code",
      "source": [
        "class LeNet_with_ReLU(torch.nn.Module):\n",
        "  def __init__(self):\n",
        "    super (LeNet_with_ReLU, self).__init__()\n",
        "\n",
        "    #Свертка torch.nn.Conv2d(in_channels = вход.каналы, out_channels=выход.каналы, kernel_size = ядро, padding = сколько надо паддинга)\n",
        "    #Пулинг torch.nn.AvgPool2d (kernel_size= , stride= )\n",
        "    self.conv1 = nn.Sequential(\n",
        "            nn.Conv2d(in_channels = 3, out_channels = 6, kernel_size = 5, stride = 1, padding = 2),\n",
        "            nn.ReLU(),\n",
        "            nn.AvgPool2d(kernel_size = 2, stride = 2))\n",
        "    self.conv2 = nn.Sequential(\n",
        "            nn.Conv2d(in_channels = 6, out_channels = 16, kernel_size = 5, stride = 1, padding = 0),\n",
        "            nn.ReLU(),\n",
        "            nn.AvgPool2d(kernel_size = 2, stride = 2),\n",
        "            nn.ReLU())\n",
        "    self.linear = nn.Sequential(\n",
        "            nn.Linear(576, 32),\n",
        "            nn.ReLU(),\n",
        "            nn.Linear(32, 10))\n",
        "    self.sm = nn.Softmax()\n",
        "    \n",
        "    \n",
        "\n",
        "  def forward(self,x):\n",
        "    x = self.conv1(x)\n",
        "    x = self.conv2(x)\n",
        "    #растягиваем тензор\n",
        "    x = x.view(x.size(0), x.size(1)* x.size(2) * x.size(3))\n",
        "    #x = torch.flatten(x)\n",
        "    ###################\n",
        "    x = self.linear(x)\n",
        "    return x\n",
        "\n",
        "  def predict(self,x):\n",
        "    x=self.forward(x)\n",
        "    x=self.sm(x)\n",
        "    return x"
      ],
      "metadata": {
        "id": "ns51K2ZsoVOI"
      },
      "execution_count": null,
      "outputs": []
    },
    {
      "cell_type": "code",
      "source": [
        "relu_lenet = LeNet_with_ReLU().to(device)\n",
        "optimizer2 = torch.optim.Adam(params = relu_lenet.parameters())"
      ],
      "metadata": {
        "id": "YjnOelr8ufFG"
      },
      "execution_count": null,
      "outputs": []
    },
    {
      "cell_type": "code",
      "source": [
        "relu_result = fit_model(batch_size = 1000, \n",
        "                        epochs = 100,\n",
        "                        X_test = X_test,\n",
        "                        X_train = X_train,\n",
        "                        y_test = y_test,\n",
        "                        y_train = y_train,\n",
        "                        model = relu_lenet,\n",
        "                        optimizer = optimizer2)"
      ],
      "metadata": {
        "colab": {
          "base_uri": "https://localhost:8080/"
        },
        "id": "a7l_FyWyuknH",
        "outputId": "f8dd4e30-2136-4715-be35-c4714b6f7d8e"
      },
      "execution_count": null,
      "outputs": [
        {
          "output_type": "stream",
          "name": "stderr",
          "text": [
            "100%|██████████| 100/100 [02:59<00:00,  1.80s/it]\n"
          ]
        }
      ]
    },
    {
      "cell_type": "code",
      "source": [
        "train_res_2 = [i.to('cpu').tolist() for i in relu_result[0]]\n",
        "test_res_2 = [i.to('cpu').tolist() for i in relu_result[1]]"
      ],
      "metadata": {
        "id": "s581PdKPunTg"
      },
      "execution_count": null,
      "outputs": []
    },
    {
      "cell_type": "markdown",
      "source": [
        "# LeNet с ReLU и MaxPool"
      ],
      "metadata": {
        "id": "ESatQ3qUVCTJ"
      }
    },
    {
      "cell_type": "code",
      "source": [
        "class LeNet_with_ReLU_MaxPool(torch.nn.Module):\n",
        "  def __init__(self):\n",
        "    super (LeNet_with_ReLU_MaxPool, self).__init__()\n",
        "\n",
        "    #Свертка torch.nn.Conv2d(in_channels = вход.каналы, out_channels=выход.каналы, kernel_size = ядро, padding = сколько надо паддинга)\n",
        "    #Пулинг torch.nn.AvgPool2d (kernel_size= , stride= )\n",
        "    self.conv1 = nn.Sequential(\n",
        "            nn.Conv2d(in_channels = 3, out_channels = 6, kernel_size = 5, stride = 1, padding = 2),\n",
        "            nn.ReLU(),\n",
        "            nn.MaxPool2d(kernel_size = 2, stride = 2))\n",
        "    self.conv2 = nn.Sequential(\n",
        "            nn.Conv2d(in_channels = 6, out_channels = 16, kernel_size = 5, stride = 1, padding = 0),\n",
        "            nn.ReLU(),\n",
        "            nn.MaxPool2d(kernel_size = 2, stride = 2),\n",
        "            nn.ReLU())\n",
        "    self.linear = nn.Sequential(\n",
        "            nn.Linear(576, 32),\n",
        "            nn.ReLU(),\n",
        "            nn.Linear(32, 10))\n",
        "    self.sm = nn.Softmax()\n",
        "    \n",
        "    \n",
        "\n",
        "  def forward(self,x):\n",
        "    x = self.conv1(x)\n",
        "    x = self.conv2(x)\n",
        "    #растягиваем тензор\n",
        "    x = x.view(x.size(0), x.size(1)* x.size(2) * x.size(3))\n",
        "    #x = torch.flatten(x)\n",
        "    ###################\n",
        "    x = self.linear(x)\n",
        "    return x\n",
        "\n",
        "  def predict(self,x):\n",
        "    x=self.forward(x)\n",
        "    x=self.sm(x)\n",
        "    return x"
      ],
      "metadata": {
        "id": "sGfGV0DYVR9n"
      },
      "execution_count": null,
      "outputs": []
    },
    {
      "cell_type": "code",
      "source": [
        "relu_maxpool_lenet = LeNet_with_ReLU_MaxPool().to(device)\n",
        "optimizer3 = torch.optim.Adam(params = relu_maxpool_lenet.parameters())"
      ],
      "metadata": {
        "id": "WDNxMGkpVcfo"
      },
      "execution_count": null,
      "outputs": []
    },
    {
      "cell_type": "code",
      "source": [
        "relu_maxpool_result = fit_model(batch_size = 1000, \n",
        "                                epochs = 100,\n",
        "                                X_test = X_test,\n",
        "                                X_train = X_train,\n",
        "                                y_test = y_test,\n",
        "                                y_train = y_train,\n",
        "                                model = relu_maxpool_lenet,\n",
        "                                optimizer = optimizer3)"
      ],
      "metadata": {
        "colab": {
          "base_uri": "https://localhost:8080/"
        },
        "id": "DyXCTgVeVkc7",
        "outputId": "232b8760-2c53-4141-f59f-e9b3811ef8e9"
      },
      "execution_count": null,
      "outputs": [
        {
          "output_type": "stream",
          "name": "stderr",
          "text": [
            "100%|██████████| 100/100 [03:00<00:00,  1.80s/it]\n"
          ]
        }
      ]
    },
    {
      "cell_type": "code",
      "source": [
        "train_res_3 = [i.to('cpu').tolist() for i in relu_maxpool_result[0]]\n",
        "test_res_3 = [i.to('cpu').tolist() for i in relu_maxpool_result[1]]"
      ],
      "metadata": {
        "id": "PIJTO9KVVxzS"
      },
      "execution_count": null,
      "outputs": []
    },
    {
      "cell_type": "markdown",
      "source": [
        "# LeNet с ReLU, MaxPool, double Conv 3x3"
      ],
      "metadata": {
        "id": "uEpTNHwiWVpB"
      }
    },
    {
      "cell_type": "code",
      "source": [
        "class LeNet_RMD(torch.nn.Module):\n",
        "  def __init__(self):\n",
        "    super (LeNet_RMD, self).__init__()\n",
        "\n",
        "    #Свертка torch.nn.Conv2d(in_channels = вход.каналы, out_channels=выход.каналы, kernel_size = ядро, padding = сколько надо паддинга)\n",
        "    #Пулинг torch.nn.AvgPool2d (kernel_size= , stride= )\n",
        "    self.conv1 = nn.Sequential(\n",
        "            nn.Conv2d(in_channels = 3, out_channels = 6, kernel_size = 3, stride = 1, padding = 2),\n",
        "            nn.ReLU(),\n",
        "            nn.Conv2d(in_channels = 6, out_channels = 6, kernel_size = 3, stride = 1, padding = 1),\n",
        "            nn.ReLU(),\n",
        "            nn.MaxPool2d(kernel_size = 2, stride = 2))\n",
        "    self.conv2 = nn.Sequential(\n",
        "            nn.Conv2d(in_channels = 6, out_channels = 16, kernel_size = 5, stride = 1, padding = 1),\n",
        "            nn.ReLU(),\n",
        "            nn.Conv2d(in_channels = 16, out_channels = 16, kernel_size = 5, stride = 1, padding = 1),\n",
        "            nn.ReLU(),\n",
        "            nn.MaxPool2d(kernel_size = 2, stride = 2),\n",
        "            nn.ReLU())\n",
        "    self.linear = nn.Sequential(\n",
        "            nn.Linear(576, 32),\n",
        "            nn.ReLU(),\n",
        "            nn.Linear(32, 10))\n",
        "    self.sm = nn.Softmax()\n",
        "    \n",
        "    \n",
        "\n",
        "  def forward(self,x):\n",
        "    x = self.conv1(x)\n",
        "    x = self.conv2(x)\n",
        "    #растягиваем тензор\n",
        "    x = x.view(x.size(0), x.size(1)* x.size(2) * x.size(3))\n",
        "    #x = torch.flatten(x)\n",
        "    ###################\n",
        "    x = self.linear(x)\n",
        "    return x\n",
        "\n",
        "  def predict(self,x):\n",
        "    x=self.forward(x)\n",
        "    x=self.sm(x)\n",
        "    return x"
      ],
      "metadata": {
        "id": "Ly_zBUukWfMt"
      },
      "execution_count": null,
      "outputs": []
    },
    {
      "cell_type": "code",
      "source": [
        "lenet_rmd = LeNet_RMD().to(device)\n",
        "optimizer4 = torch.optim.Adam(params = lenet_rmd.parameters())"
      ],
      "metadata": {
        "id": "MZ3DOqe8WfHm"
      },
      "execution_count": null,
      "outputs": []
    },
    {
      "cell_type": "code",
      "source": [
        "rmd_result = fit_model(batch_size = 1000, \n",
        "                       epochs = 100,\n",
        "                       X_test = X_test,\n",
        "                       X_train = X_train,\n",
        "                       y_test = y_test,\n",
        "                       y_train = y_train,\n",
        "                       model = lenet_rmd,\n",
        "                       optimizer = optimizer4)"
      ],
      "metadata": {
        "colab": {
          "base_uri": "https://localhost:8080/"
        },
        "id": "FhRMd6Y0WfCt",
        "outputId": "d3132796-a844-4e85-8b23-46d18b8ed20e"
      },
      "execution_count": null,
      "outputs": [
        {
          "output_type": "stream",
          "name": "stderr",
          "text": [
            "100%|██████████| 100/100 [07:08<00:00,  4.29s/it]\n"
          ]
        }
      ]
    },
    {
      "cell_type": "code",
      "source": [
        "train_res_4 = [i.to('cpu').tolist() for i in rmd_result[0]]\n",
        "test_res_4 = [i.to('cpu').tolist() for i in rmd_result[1]]"
      ],
      "metadata": {
        "id": "c89KPI4iXf2X"
      },
      "execution_count": null,
      "outputs": []
    },
    {
      "cell_type": "markdown",
      "source": [
        "# График лоссов на тесте"
      ],
      "metadata": {
        "id": "izkt4hZgXpHP"
      }
    },
    {
      "cell_type": "code",
      "source": [
        "fig, ax = plt.subplots()\n",
        "ax.plot(test_res_1, label = 'Default LeNet')\n",
        "ax.plot(test_res_2, label = 'LeNet with ReLU')\n",
        "ax.plot(test_res_3, label = 'LeNet with ReLU and MaxPool')\n",
        "ax.plot(test_res_4, label = 'LeNet with ReLU and MaxPool and double conv 3x3')\n",
        "ax.legend(loc = 3)\n",
        "fig.set_figwidth(15) \n",
        "fig.set_figheight(8)  "
      ],
      "metadata": {
        "colab": {
          "base_uri": "https://localhost:8080/",
          "height": 676
        },
        "id": "hQAFIZ1Hu-gt",
        "outputId": "8e08a545-5684-4867-e931-240eeff882f6"
      },
      "execution_count": null,
      "outputs": [
        {
          "output_type": "display_data",
          "data": {
            "text/plain": [
              "<Figure size 1500x800 with 1 Axes>"
            ],
            "image/png": "[encoded data removed]"
          },
          "metadata": {}
        }
      ]
    },
    {
      "cell_type": "code",
      "source": [
        "from sklearn.metrics import f1_score"
      ],
      "metadata": {
        "id": "TRHnKdqKYr1y"
      },
      "execution_count": null,
      "outputs": []
    },
    {
      "cell_type": "code",
      "source": [
        "f1_score(basic_lenet.to('cpu').predict(X_test).argmax(dim = 1).tolist(), y_test.tolist(), average = 'weighted')"
      ],
      "metadata": {
        "colab": {
          "base_uri": "https://localhost:8080/"
        },
        "id": "a_ltc6CnZLL5",
        "outputId": "099296a4-96f0-4489-9365-79640ee5e59e"
      },
      "execution_count": null,
      "outputs": [
        {
          "output_type": "stream",
          "name": "stderr",
          "text": [
            "<ipython-input-61-949ff718de1a>:37: UserWarning: Implicit dimension choice for softmax has been deprecated. Change the call to include dim=X as an argument.\n",
            "  x=self.sm(x)\n"
          ]
        },
        {
          "output_type": "execute_result",
          "data": {
            "text/plain": [
              "0.5884137579638807"
            ]
          },
          "metadata": {},
          "execution_count": 82
        }
      ]
    },
    {
      "cell_type": "code",
      "source": [
        "f1_score(relu_lenet.to('cpu').predict(X_test).argmax(dim = 1).tolist(), y_test.tolist(), average = 'weighted')"
      ],
      "metadata": {
        "colab": {
          "base_uri": "https://localhost:8080/"
        },
        "id": "2Ny_LchJY-yi",
        "outputId": "e88504f3-ea1d-449e-c6aa-5e17892a721d"
      },
      "execution_count": null,
      "outputs": [
        {
          "output_type": "stream",
          "name": "stderr",
          "text": [
            "<ipython-input-65-4f7e289dc168>:36: UserWarning: Implicit dimension choice for softmax has been deprecated. Change the call to include dim=X as an argument.\n",
            "  x=self.sm(x)\n"
          ]
        },
        {
          "output_type": "execute_result",
          "data": {
            "text/plain": [
              "0.6026806016105516"
            ]
          },
          "metadata": {},
          "execution_count": 81
        }
      ]
    },
    {
      "cell_type": "code",
      "source": [
        "f1_score(relu_maxpool_lenet.to('cpu').predict(X_test).argmax(dim = 1).tolist(), y_test.tolist(), average = 'weighted')\n"
      ],
      "metadata": {
        "colab": {
          "base_uri": "https://localhost:8080/"
        },
        "id": "t-ZnCHIIYPzR",
        "outputId": "5b158270-27ca-45ab-b710-b35229e275b4"
      },
      "execution_count": null,
      "outputs": [
        {
          "output_type": "stream",
          "name": "stderr",
          "text": [
            "<ipython-input-69-3c926cdfff33>:36: UserWarning: Implicit dimension choice for softmax has been deprecated. Change the call to include dim=X as an argument.\n",
            "  x=self.sm(x)\n"
          ]
        },
        {
          "output_type": "execute_result",
          "data": {
            "text/plain": [
              "0.6251807973464562"
            ]
          },
          "metadata": {},
          "execution_count": 80
        }
      ]
    },
    {
      "cell_type": "code",
      "source": [
        "f1_score(lenet_rmd.to('cpu').predict(X_test).argmax(dim = 1).tolist(), y_test.tolist(), average = 'weighted')"
      ],
      "metadata": {
        "colab": {
          "base_uri": "https://localhost:8080/"
        },
        "id": "UlRadtZBvzcp",
        "outputId": "8fa20c2f-7153-46cd-caea-d7a4e5808df3"
      },
      "execution_count": null,
      "outputs": [
        {
          "output_type": "stream",
          "name": "stderr",
          "text": [
            "<ipython-input-73-4cb2af4846ef>:40: UserWarning: Implicit dimension choice for softmax has been deprecated. Change the call to include dim=X as an argument.\n",
            "  x=self.sm(x)\n"
          ]
        },
        {
          "output_type": "execute_result",
          "data": {
            "text/plain": [
              "0.6517342186179681"
            ]
          },
          "metadata": {},
          "execution_count": 79
        }
      ]
    }
  ]
}